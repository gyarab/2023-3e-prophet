{
 "cells": [
  {
   "cell_type": "code",
   "execution_count": null,
   "metadata": {},
   "outputs": [],
   "source": [
    "import best_brain as bb\n",
    "from data_manager import LoaderOHLCV"
   ]
  },
  {
   "cell_type": "code",
   "execution_count": null,
   "metadata": {},
   "outputs": [],
   "source": [
    "# Train parameters\n",
    "learning_rate = 0.001\n",
    "num_epochs = 10 # Epoch: Passes the entire training dataset to the model once\n",
    "input_file_name = 'Train_1_minute.csv'\n",
    "bb.load_data_mode = 2    "
   ]
  },
  {
   "cell_type": "code",
   "execution_count": null,
   "metadata": {},
   "outputs": [],
   "source": [
    "# model_name has to end with pth\n",
    "model_name = \"CleanupTest.pth\"\n",
    "bb.model_path = bb.create_model_path(model_name)"
   ]
  },
  {
   "cell_type": "code",
   "execution_count": null,
   "metadata": {},
   "outputs": [],
   "source": [
    "# Loads model to device\n",
    "bb.model.to(bb.device)"
   ]
  },
  {
   "cell_type": "code",
   "execution_count": null,
   "metadata": {},
   "outputs": [],
   "source": [
    "# Loads an prepares dataset\n",
    "DataManager = LoaderOHLCV(bb.look_back,bb.load_data_mode, input_file=input_file_name)\n",
    "X_train, X_test, y_train, y_test = DataManager.get_data_as_tensor()\n",
    "train_dataset, test_dataset = DataManager.to_dataset(X_train, X_test, y_train, y_test)\n",
    "train_loader, test_loader = DataManager.to_dataLoader(train_dataset, test_dataset, bb.batch_size)"
   ]
  },
  {
   "cell_type": "code",
   "execution_count": null,
   "metadata": {},
   "outputs": [],
   "source": [
    "# Trains model\n",
    "bb.train_model(train_loader, num_epochs, learning_rate)"
   ]
  },
  {
   "cell_type": "code",
   "execution_count": null,
   "metadata": {},
   "outputs": [],
   "source": [
    "# Creates grpahs\n",
    "bb.create_train_graph(X_train, y_train)\n",
    "bb.create_test_graph(X_test, y_test)"
   ]
  }
 ],
 "metadata": {
  "kernelspec": {
   "display_name": "Python 3",
   "language": "python",
   "name": "python3"
  },
  "language_info": {
   "codemirror_mode": {
    "name": "ipython",
    "version": 3
   },
   "file_extension": ".py",
   "mimetype": "text/x-python",
   "name": "python",
   "nbconvert_exporter": "python",
   "pygments_lexer": "ipython3",
   "version": "3.11.7"
  }
 },
 "nbformat": 4,
 "nbformat_minor": 2
}
